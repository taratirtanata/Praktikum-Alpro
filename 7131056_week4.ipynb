{
  "metadata": {
    "kernelspec": {
      "name": "python",
      "display_name": "Python (Pyodide)",
      "language": "python"
    },
    "language_info": {
      "name": ""
    }
  },
  "nbformat_minor": 4,
  "nbformat": 4,
  "cells": [
    {
      "cell_type": "code",
      "source": "#nomor 1\n\ndef numberCheck(a, b, c):\n    if a != b and b != c and a != c:\n        if a + b == c or a + c == b or b + c == a:\n            return True\n    return False\n\nprint(numberCheck(3,4,5))\nprint(numberCheck(6,22,28))",
      "metadata": {
        "trusted": true
      },
      "outputs": [],
      "execution_count": null
    },
    {
      "cell_type": "code",
      "source": "#nomor 2\n\ndef cek_digit_belakang(a, b, c):\n    digitA = a % 10\n    digitB = b % 10\n    digitC = c % 10\n    return (digitA == digitB or digitA == digitC or digitB == digitC)\n\na = int(input(\"Insert the first number: \"))\nb = int(input(\"Insert the second number: \"))\nc = int(input(\"Insert the third number: \"))\n\nhasil = cek_digit_belakang(a, b, c)\nprint(hasil)\n\n#testcase\nprint(\"Test Case:\")\nprint(cek_digit_belakang(30, 20, 18))    \nprint(cek_digit_belakang(145, 5, 100))   \nprint(cek_digit_belakang(71, 187, 18))   \nprint(cek_digit_belakang(1024, 14, 94)) \nprint(cek_digit_belakang(53, 8900, 658))\n\n",
      "metadata": {
        "trusted": true
      },
      "outputs": [],
      "execution_count": null
    },
    {
      "cell_type": "code",
      "source": "#nomor 3\n\ncelcius_to_fahrenheit = lambda c: (9/5) * c + 32\ncelcius_to_reamur = lambda c: 0.8 * c\n\nprint(\"Test Case:\")\nsuhu1 = 100\njwb1 = celcius_to_fahrenheit(suhu1)\nprint(f\"C = {suhu1}, F = {jwb1}\")\n\nsuhu2 = 80\njwb2 = celcius_to_reamur(suhu2)\nprint(f\"C = {suhu2}, R = {jwb2}\")\n\nsuhu3 = 0\njwb3 = celcius_to_fahrenheit(suhu3)\nprint(f\"C = {suhu3}, F = {jwb3}\")",
      "metadata": {
        "trusted": true
      },
      "outputs": [],
      "execution_count": null
    }
  ]
}