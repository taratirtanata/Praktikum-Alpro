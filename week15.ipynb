{
  "metadata": {
    "kernelspec": {
      "name": "python",
      "display_name": "Python (Pyodide)",
      "language": "python"
    },
    "language_info": {
      "name": ""
    }
  },
  "nbformat_minor": 4,
  "nbformat": 4,
  "cells": [
    {
      "cell_type": "code",
      "source": "#no 1\nimport re\nfrom datetime import datetime\ndef cari_pattern(text):\n    simbol_tgl = r'\\b(\\d{4})-(\\d{2})-(\\d{2})\\b'\n    pattern = re.findall(simbol_tgl, text)\n    hazil = []\n    hari_sekarang = datetime.now()\n\n    for format_tgl in pattern:\n        a = f\"{format_tgl[0]}-{format_tgl[1]}-{format_tgl[2]}\"\n        b = datetime.strptime(a, '%Y-%m-%d')\n        sudah_diformat = b.strftime('%d-%m-%Y')\n        date_diff = (hari_sekarang - b).days\n        hazil.append(f\"{sudah_diformat} 00:00:00 selisih {date_diff} hari\")\n    return hazil\n\ntext = ''' Pada tanggal 1945-08-17 Indonesia merdeka. Indonesia memiliki\nbeberapa pahlawan nasional, seperti Pangeran Diponegoro (TL: 1785-11-11),\nPattimura (TL: 1783-06-08) dan Ki Hajar Dewantara (1889-05-02).'''\n\ntgl_yg_udah_dicomot = cari_pattern(text)\nfor tgl in tgl_yg_udah_dicomot:\n    print(tgl)",
      "metadata": {
        "trusted": true
      },
      "outputs": [],
      "execution_count": null
    },
    {
      "cell_type": "code",
      "source": "#No 2\nimport re\nimport string\nimport random\ndef bikin_password(panjang=8):\n    hurufny = string.ascii_letters + string.digits\n    return ''.join(random.choice(hurufny) for i in range(panjang))\ntext = ''' Berikut adalah daftar email dan nama pengguna dari mailing list: anton@mail.com dimiliki oleh antonius\nbudi@gmail.co.id dimiliki oleh budi anwari slamet@getnada.com dimiliki oleh slamet slumut\nmatahari@tokopedia.com dimiliki oleh toko matahari '''\n\npatternny = r'([\\w\\.-]+@[a-zA-Z\\d\\.-]+\\.[a-zA-Z\\.]{2,}) dimiliki oleh (\\w+)'\nyang_termasuk = re.findall(patternny, text)\n\nfor ketemu in yang_termasuk:\n    email = ketemu[0]\n    username = ketemu[1]\n    password = bikin_password()\n    print(f\"{email} username: {username} , password: {password}\")\n",
      "metadata": {
        "trusted": true
      },
      "outputs": [],
      "execution_count": null
    }
  ]
}