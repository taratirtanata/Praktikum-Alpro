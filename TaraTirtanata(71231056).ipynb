{
  "metadata": {
    "kernelspec": {
      "name": "python",
      "display_name": "Python (Pyodide)",
      "language": "python"
    },
    "language_info": {
      "codemirror_mode": {
        "name": "python",
        "version": 3
      },
      "file_extension": ".py",
      "mimetype": "text/x-python",
      "name": "python",
      "nbconvert_exporter": "python",
      "pygments_lexer": "ipython3",
      "version": "3.8"
    }
  },
  "nbformat_minor": 4,
  "nbformat": 4,
  "cells": [
    {
      "cell_type": "code",
      "source": "#soal 1\n\n",
      "metadata": {
        "trusted": true
      },
      "outputs": [],
      "execution_count": null
    },
    {
      "cell_type": "code",
      "source": "# soal 2\n\nbilangan =int(input(\"Masukkan suatu bilangan:\"))\ncekBilangan = print(\"Positif\") if bilangan > 0 else print(\"Negatif\") if bilangan < 0 else print(\"Nol\")",
      "metadata": {
        "trusted": true
      },
      "outputs": [],
      "execution_count": null
    },
    {
      "cell_type": "code",
      "source": "# soal 3\n\nbulan = int(input(\"Masukkan bulan (1-12): \"))\n\nif bulan >= 1 and bulan <2:\n    print(\"Jumlah hari: 31\")\nelif bulan >= 2 and bulan <3:\n    print(\"Jumlah hari: 28\")\nelif bulan >= 3 and bulan <4:\n    print(\"Jumlah hari: 31\")\nelif bulan >= 4 and bulan <5:\n    print(\"Jumlah hari: 30\")\nelif bulan >= 5 and bulan <6:\n    print(\"Jumlah hari: 31\")\nelif bulan >= 6 and bulan <7:\n    print(\"Jumlah hari: 30\")\nelif bulan >= 7 and bulan <8:\n    print(\"Jumlah hari: 31\")\nelif bulan >= 8 and bulan <9:\n    print(\"Jumlah hari: 31\")\nelif bulan >= 9 and bulan <10:\n    print(\"Jumlah hari: 30\")\nelif bulan >= 10 and bulan <11:\n    print(\"Jumlah hari: 31\")\nelif bulan >= 11 and bulan <12:\n    print(\"Jumlah hari: 30\")\nelif bulan >= 12 and bulan <13:\n    print(\"Jumlah hari: 31\")\nelse:\n    print(\"bulan yang anda masukkan salah\")",
      "metadata": {
        "trusted": true
      },
      "outputs": [],
      "execution_count": null
    },
    {
      "cell_type": "code",
      "source": "#soal 4\n\ndef hitungPanjangSegitiga(a, b, c):\n\n  if a == b and b == c:\n    return \"3 sisi sama\"\n  elif a == b or b == c or a == c:\n    return \"2 sisi sama\"\n  else:\n    return \"Tidak ada yang sama\"\n\ntry:\n  sisiA = float(input(\"Masukkan sisi 1: \"))\n  sisiB = float(input(\"Masukkan sisi 2: \"))\n  sisiC = float(input(\"Masukkan sisi 3: \"))\n  jenis_segitiga = hitungPanjangSegitiga(sisiA, sisiB, sisiC)\n  print(jenis_segitiga)\nexcept:\n  print(\"Input anda tidak valid\")",
      "metadata": {
        "trusted": true
      },
      "outputs": [],
      "execution_count": null
    }
  ]
}