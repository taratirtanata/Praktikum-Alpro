{
  "metadata": {
    "kernelspec": {
      "name": "python",
      "display_name": "Python (Pyodide)",
      "language": "python"
    },
    "language_info": {
      "name": ""
    }
  },
  "nbformat_minor": 4,
  "nbformat": 4,
  "cells": [
    {
      "cell_type": "code",
      "source": "def primaGakYa(num, pembagi = 2):\n    if num <= 1:\n        return False\n    if num == pembagi:\n        return True\n    if num % pembagi == 0:\n        return False\n\n    return primaGakYa(num, pembagi + 1)\n\n#test case\nangka = int(input(\"Masukkan angka untuk dicek: \"))\nif primaGakYa(angka):\n    print(f\"{angka} adalah bilangan prima.\")\nelse:\n    print(f\"{angka} bukan bilangan prima.\")",
      "metadata": {
        "trusted": true
      },
      "outputs": [],
      "execution_count": null
    },
    {
      "cell_type": "code",
      "source": "def cekPalindrom(coba):\n    coba = ''.join(filter(str.isalnum, coba)).lower()\n\n    if len(coba) <= 1:\n        return True\n    if coba[0] != coba[-1]:\n        return False\n    return cekPalindrom(coba[1:-1])\n\nkalimat = \"Meong moeng meong\"\nkalimat2 = \"TaraaraT\"\nprint(cekPalindrom(kalimat))\nprint(cekPalindrom(kalimat2))",
      "metadata": {
        "trusted": true
      },
      "outputs": [],
      "execution_count": null
    },
    {
      "cell_type": "code",
      "source": "def ngitung(n):\n    if n == 1:\n        return 1\n    else:\n        return (2*n - 1) + ngitung(n-1)\n\nprint(ngitung(6))",
      "metadata": {
        "trusted": true
      },
      "outputs": [],
      "execution_count": null
    },
    {
      "cell_type": "code",
      "source": "def ngitungDigit(n):\n    if n < 10:\n        return n\n    else:\n        return n % 10 + ngitungDigit(n // 10)\n\nprint(ngitungDigit(421))",
      "metadata": {
        "trusted": true
      },
      "outputs": [],
      "execution_count": null
    },
    {
      "cell_type": "code",
      "source": "def itungCombi(n, r):\n    if r == n or r == 0:\n        return 1\n    else:\n        return itungCombi(n-1, r-1) + itungCombi(n-1, r)\n\nprint(itungCombi(8, 2))",
      "metadata": {
        "trusted": true
      },
      "outputs": [],
      "execution_count": null
    }
  ]
}